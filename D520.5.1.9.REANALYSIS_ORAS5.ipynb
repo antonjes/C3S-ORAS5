# Use case: Analysis of long-term Sea Level variability in the Arctic Ocean

## Quality assessment question
 Can we use ORAS5 reanalysis to assess the long-term evolution of Sea Level in the Arctic Ocean?
