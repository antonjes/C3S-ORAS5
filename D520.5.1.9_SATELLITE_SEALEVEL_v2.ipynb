{
 "cells": [
  {
   "cell_type": "markdown",
   "id": "cde59393",
   "metadata": {},
   "source": [
    "# Sea level measurements accuracy assessment in the coastal zone\n",
    "\n",
    "* Data stream: Satellite (observations)\n",
    "* Quality area: intercomparison of satellite-derived sea level observations and in situ tide gauge records in the coastal zone, consistency between the satellite dataset and the tide gauge data, accuracy\n",
    "* Application area: mean sea level, coastal region\n",
    "\n",
    "Production date: 20-05-2024\n",
    "\n",
    "Produced by: IMEDEA (CSIC-UIB) [[webpage]](https://imedea.uib-csic.es/)"
   ]
  },
  {
   "cell_type": "markdown",
   "id": "24bfa593",
   "metadata": {},
   "source": [
    "# Use case: Studying sea level retreival in the coastal band\n",
    "\n",
    "## Quality assessment question\n",
    "* How accurate are satellite-derived GSLA measurements in the coastal band of the European Seas?"
   ]
  },
  {
   "cell_type": "markdown",
   "id": "51d2098a",
   "metadata": {},
   "source": [
    "Traditional altimetry has been often unable to produce meaningful signals of sea level change in the coastal zone due to the typically shallower water, bathymeric gradients and shoreline shapes, among others [[1]](https://doi.org/10.1007/s10712-019-09569-1), [[2]](https://doi.org/10.3390/rs12233970). Actually, satellite sea level products are not optimized for the coastal band promoting larger errors in the retrieval of sea level with regard to the open ocean. Nevertheless, the monitoring of sea level changes in coastal areas is an important societal issue [[3]](https://doi.org/10.3390/rs15030793). Thus, most of the efforts of the international community in the recent past have been focused on the research and development of techniques for coastal altimetry, with substantial support from space agencies such as the European Space Agency (ESA), the Centre National d’Études Spatiales (CNES) and other research institutions [[4]](https://doi.org/10.1007/s10712-016-9392-0). Efforts of the coastal altimetry community are aimed at extending the capabilities of current altimeters closer to the coastal zone. This includes the application of improved geophysical corrections, data recovery strategies near the coast using new editing criteria and high-frequency along-track sampling associated with updated quality control procedures [[1]](https://doi.org/10.1007/s10712-019-09569-1).\n",
    "As a result, regional altimeter products focused on the coastal zone have been developed over the last years [[3]](https://doi.org/10.3390/rs15030793). These products are disseminated to both the international scientific community and society through regular specific coastal altimetry workshops.\n",
    "Different metrics are used to assess the quality of satellite sea level data. They mainly consist in the analysis of the sea level anomaly (SLA) field at different steps of the processing, checks of the consistency of the SLA along the tracks of different altimeters and between gridded and along-track products, and comparisons with external in situ measurements [[5]](https://catalogue.marine.copernicus.eu/documents/QUID/CMEMS-SL-QUID-008-032-068.pdf).\n",
    "In situ and satellite observations are complementary and are often assumed to observe the same signals [[6]](https://doi.org/10.1002/2015RG000502). In coastal areas, tide gauge measurements are commonly used (e.g., [[7]](https://doi.org/10.5194/os-15-1207-2019)). \n",
    "In this context, this notebook aims to evaluate the performance of satellite global sea level gridded products in the retreival of sea level in the coastal band of the European Seas over the period 1993-2023. This assessment is based on the analysis conducted in [[8]](https://doi.org/10.5194/os-19-793-2023) from satellite sea level data."
   ]
  },
  {
   "cell_type": "markdown",
   "id": "5a34a6b2",
   "metadata": {},
   "source": [
    "## Quality assessment statement"
   ]
  },
  {
   "cell_type": "markdown",
   "id": "847c3982",
   "metadata": {},
   "source": [
    "* The mean value of the rms difference between the satellite dataset and tide gauges along the coastal band of the European Seas is 4.35 cm, the variance of the differences (satellite – tide gauge) is 19 cm² whilst the variance of the satellite and tide gauge datasets are 89 cm² and 79 cm², respectively.  In addition, the mean distance between the location of the tide gauges and the corresponding satellite data is 87 km. Thus, this dataset properly captures the sea level in the coastal region of the European Seas and its variability when compared with in-situ tide gauge data\n",
    "* Consistency between the satellite dataset and the tide gauge data (expressed according to [[2]](https://doi.org/10.3390/rs12233970) as the mean square differences between both datasets in terms of percentage of the tide gauge variance) shows spatial variability with values lower than 5 % in the central and eastern parts of the Baltic Sea, emphasizing the precision of the corrections applied to the satellite data in the basin that provide accurate sea level measurements when compared with tide gauges\n",
    "* However, consistency reaches poorer values between 20 % and 30 % for stations located in the connection region with the North Atlantic Ocean. In addition, it presents values between 20 % and 50 % for most of the stations located along the Atlantic shore; this includes the Strait of Gibraltar area. Such a large error could be related to imprecisions in the correction applied (i.e. ocean tide and DAC) to the satellite data [[2]](https://doi.org/10.3390/rs12233970), [[9]](https://doi.org/10.1029/2007jc004459), [[10]](https://doi.org/10.1016/j.jmarsys.2016.03.006) and to a larger non-tidal variance with respect to that found in the Baltic Sea [[11]](https://www.tandfonline.com/doi/full/10.1080/1755876X.2018.1489208)\n",
    "* The Norwegian Sea shows better results than those obtained for the Atlantic shore with consistency values ranging between 15 % and 30 %, except for the south-western part of Norway where even better values ranging between 5 % and 15% are obtained providing accurate sea level measurements when compared with tide gauges"
   ]
  },
  {
   "cell_type": "markdown",
   "id": "79d4c356",
   "metadata": {},
   "source": [
    "## Methodology"
   ]
  },
  {
   "cell_type": "markdown",
   "id": "ee251f8f",
   "metadata": {},
   "source": [
    "This notebook provides an assessment of the accuracy of satellite-derived sea level observations in the coastal zone of the European Seas over the period 1993-2023 through their comparison with in situ tide gauge records located along the European coasts. The CDS catalogue entry used is the following:\n",
    "\n",
    "* Sea level gridded data from satellite observations for the global ocean from 1993 to present [[CDS entry]](https://doi.org/10.24381/cds.4c328c78)\n",
    "\n",
    "Other entries used for the assessment:\n",
    "\n",
    "* Tide gauge dataset: [[tide gauge entry]](http://www.marineinsitu.eu)\n",
    "* DAC dataset: [[DAC entry]](https://www.aviso.altimetry.fr/en/data/products/auxiliary-products/dynamic-atmospheric-correction.html)\n",
    "\n",
    "Before they can be compared with satellite data, tide gauge measurements have to be processed to remove oceanographic signals whose temporal periods are not resolved by satellite sea level data, thus avoiding important aliasing errors [[1]](https://doi.org/10.1007/s10712-019-09569-1). In the following there are summarised the corrections applied to the tide gauge records:\n",
    "\n",
    "* Correction of oceanic tidal effects by filtering tidal components (mainly diurnal and semidiurnal tidal constituents). The u-tide software [[12]](https://www.po.gso.uri.edu/codiga/utide/2011Codiga-UTide-Report.pdf)  is used. The annual and semiannual frequencies, mainly driven by steric effect, are kept in the tidal residuals since they are included in the satellite data\n",
    "* Removal of the atmospherically induced sea level caused by the action of atmospheric pressure and wind [[13]](https://journals.ametsoc.org/view/journals/atot/16/9/1520-0426_1999_016_1279_eogmap_2_0_co_2.xml), [[14]](https://doi.org/10.1029/2002GL016473). The same dynamic atmospheric correction (DAC) as for satellite data is applied for the sake of consistency. The 6-hourly fields of this correction, available from the Archiving, Validation and Interpretation of Satellite Oceanographic Data (AVISO) website, are used. For each tide gauge site, the nearest grid point was selected and used to remove the atmospherically induced sea level from observations, previously converted into 6-hourly records [[15]](https://doi.org/10.1016/j.asr.2015.04.027)\n",
    "* Correction of vertical movements associated with glacial isostatic adjustment (GIA). GIA is regarded as the only source of vertical land motions. Its effects are removed from the sea surface height (SSH) records, previously averaged into daily data, by using the Peltier mantle viscosity model (VM2) [[16]](https://agupubs.onlinelibrary.wiley.com/doi/abs/10.1029/98rg02638), [[17]](https://www.annualreviews.org/content/journals/10.1146/annurev.earth.32.082503.144359) \n",
    "\n",
    "The comparison method of satellite data with tide gauges consists in collocating both datasets in time and space. As a first step, a 15 day low-pass LOESS filter is applied to satellite and tide gauge time series to remove the high frequencies that cannot be resolved by the satellite data [[2]](https://doi.org/10.3390/rs12233970), [[18]](https://doi.org/10.1175/2008JTECHO556.1), [[19]](https://doi.org/10.5194/os-15-1091-2019). Then, the correlations between each tide gauge record and SLA time series corresponding to grid points within a radius of 1 degree around the tide gauge site is computed and the most correlated altimetry point is chosen. Only long-term monitoring stations with a lifetime of more than 3 years are used to allow statistical significance. Statistical analyses are performed using all available data pairs (satellite – tide gauge) in terms of the rms difference and variance of the time series.  Consistency between the satellite dataset and the tide gauge data is computed from Eq. (1) in [[2]](https://doi.org/10.3390/rs12233970). It is expressed as the mean square differences between both datasets, computed as the variance of the differences (satellite–tide gauge), in terms of percentage of the tide gauge variance.  "
   ]
  },
  {
   "cell_type": "markdown",
   "id": "140533ab",
   "metadata": {},
   "source": [
    "## Analysis and Results"
   ]
  },
  {
   "cell_type": "markdown",
   "id": "01f1dda3",
   "metadata": {},
   "source": [
    "This notebook does not include code. It is a literature review based on the results reported in [[8]](https://doi.org/10.5194/os-19-793-2023)"
   ]
  },
  {
   "cell_type": "markdown",
   "id": "9caaaf65",
   "metadata": {},
   "source": [
    "### Results"
   ]
  },
  {
   "cell_type": "markdown",
   "id": "8719f7d5",
   "metadata": {},
   "source": [
    "The mean value of the rms difference between the satellite dataset and tide gauges is 4.35 cm, the variance of the differences (satellite – tide gauge) is 19 cm², whereas the variance of the satellite and tide gauge datasets are 89 cm² and 79 cm², respectively. Thus, this dataset properly captures the sea level in the coastal region and its variability when compared with in-situ tide gauge data. In addition, the mean distance between the location of the tide gauge and the corresponding satellite data with the highest correlation is 87 km. Overall, consistency between the satellite dataset and the tide gauge data (expressed according to [[2]](https://doi.org/10.3390/rs12233970) as the mean square differences between both datasets in terms of percentage of the tide gauge variance) shows spatial variability with values lower than 5 % in the central and eastern parts of the Baltic Sea, emphasizing the precision of the corrections applied to the satellite data in the basin that provide accurate sea level measurements when compared with tide gauges. However, they reach poorer values between 20 % and 30 % for stations located in the connection region with the North Atlantic Ocean. In addition, consistency values are between 20 % and 50 % for most of the stations located along the Atlantic shore; this includes the Strait of Gibraltar area. Such a large error could be related to imprecisions in the correction applied (i.e. ocean tide and DAC) to the satellite data [[2]](https://doi.org/10.3390/rs12233970), [[9]](https://doi.org/10.1029/2007jc004459), [[10]](https://doi.org/10.1016/j.jmarsys.2016.03.006) and to a larger non-tidal variance with respect to that found in the Baltic Sea [[11]](https://www.tandfonline.com/doi/full/10.1080/1755876X.2018.1489208). Finally, the Norwegian sea shows consistency values better than those obtained for the Atlantic shore ranging between 15 % and 30 %, except for the south-western part of Norway where values between 5 % and 15% are found providing accurate sea level measurements when compared with tide gauges."
   ]
  },
  {
   "cell_type": "markdown",
   "id": "389ae21e",
   "metadata": {},
   "source": [
    "## If you want to know more"
   ]
  },
  {
   "cell_type": "markdown",
   "id": "c48ca192",
   "metadata": {},
   "source": [
    "### Key resources"
   ]
  },
  {
   "cell_type": "markdown",
   "id": "05ee723c",
   "metadata": {},
   "source": [
    "* CDS entry: https://cds.climate.copernicus.eu/cdsapp#!/dataset/satellite-sea-level-global?tab=overview\n",
    "* PUG: https://confluence.ecmwf.int/pages/viewpage.action?pageId=333790908\n",
    "* ATBD: https://datastore.copernicus-climate.eu/documents/satellite-sea-level/vDT2021/WP2-FDDP-2022-09_C3S2-Lot3_ATBD-of-vDT2021-SeaLevel-products_v1.2_Final.pdf\n",
    "* System Quality Assurance Document:https://datastore.copernicus-climate.eu/documents/satellite-sea-level/vDT2021/WP3-SQAD-2022-09_C3S2-Lot3_SQAD-of-v2.1-SeaLevel-products_v1.1_FINAL.pdf\n",
    "* Product Quality Assurance Document: https://datastore.copernicus-climate.eu/documents/satellite-sea-level/vDT2021/WP1-PDDP-2022-03_C3S2-Lot3_PQAD-of-vDT2021-SeaLevel-products_v1.2_final.pdf\n",
    "* Product Quality Assessment Report: https://datastore.copernicus-climate.eu/documents/satellite-sea-level/vDT2021/WP2-FDDP-2022-09_C3S2-Lot3_PQAR-of-vDT2021-SeaLevel-products_v1.2_FINAL.pdf\n",
    "* Target Requirements and Gap Analysis Document: https://datastore.copernicus-climate.eu/documents/satellite-sea-level/vDT2021/WP3-TR-GAD-2022_C3S2-Lot3-TR-GAD-SeaLevel-products_v2.1_FINAL.pdf\n",
    "* Tide gauge dataset: http://www.marineinsitu.eu\n",
    "* DAC dataset: https://www.aviso.altimetry.fr/en/data/products/auxiliary-products/dynamic-atmospheric-correction.html"
   ]
  },
  {
   "cell_type": "markdown",
   "id": "7bda9a3f",
   "metadata": {},
   "source": [
    "### References"
   ]
  },
  {
   "cell_type": "markdown",
   "id": "cfbc900b",
   "metadata": {},
   "source": [
    "[[1]](https://doi.org/10.1007/s10712-019-09569-1) Vignudelli, S., Birol, F., Benveniste, J., Fu, L.-L., Picot, N., Raynal, M., and Roinard, H.: Satellite Altimetry Measurements of Sea Level in the Coastal Zone, Surv. Geophys., 40, 1319–1349, https://doi.org/10.1007/s10712-019-09569-1, 2019 \n",
    "\n",
    "[[2]](https://doi.org/10.3390/rs12233970) Sánchez-Román, A., Pascual, A., Pujol, M.-I., Taburet, G., Marcos, M., and Faugère, Y.: Assessment of DUACS Sentinel-3A Altimetry Data in the Coastal Band of the European Seas: Comparison with Tide Gauge Measurements, Remote Sens., 12, 3970, https://doi.org/10.3390/rs12233970, 2020 \n",
    "\n",
    "[[3]](https://doi.org/10.3390/rs15030793) Pujol, M.-I., Dupuy, S., Vergara, O., Sánchez Román, A., Faugère, Y., Prandi, P., Dabat, M.-L., Dagneaux, Q., Lievin, M., Cadier, E., Dibarboure, G., and Picot, N.: Refining the Resolution of DUACS Along-Track Level-3 Sea Level Altimetry Products, Remote Sens., 15, 1–30, https://doi.org/10.3390/rs15030793, 2023\n",
    "\n",
    "[[4]](https://doi.org/10.1007/s10712-016-9392-0) Cipollini, P., Calafat, F.-M., Jevrejeva, S., Melet, A., and Prandi, P.: Monitoring sea level in the coastal zone with satellite altimetry and tide gauges, Surv. Geophys., 38, 33–57, https://doi.org/10.1007/s10712-016-9392-0, 2017\n",
    "\n",
    "[[5]](https://catalogue.marine.copernicus.eu/documents/QUID/CMEMS-SL-QUID-008-032-068.pdf) CMEMS-SL-QUID: QUID document for Sea Level TAC DUACS products CMEMS-SL-QUID-008-032-068, https://catalogue.marine.copernicus.eu/documents/QUID/CMEMS-SL-QUID-008-032-068.pdf, 2022\n",
    "\n",
    "[[6]](https://doi.org/10.1002/2015RG000502) Wöppelmann, G. and Marcos, M.: Vertical land motion as a key to understanding sea level change and variability, Rev. Geophys., 54, 64–92, https://doi.org/10.1002/2015RG000502, 2016\n",
    "\n",
    "[[7]](https://doi.org/10.5194/os-15-1207-2019) Taburet, G., Sanchez-Roman, A., Ballarotta, M., Pujol, M.-I., Legeais, J.-F., Fournier, F., Faugere, Y., and Dibarboure, G.: DUACS DT2018: 25 years of reprocessed sea level altimetry products, Ocean Sci., 15, 1207–1224, https://doi.org/10.5194/os-15-1207-2019, 2019\n",
    "\n",
    "[[8]](https://doi.org/10.5194/os-19-793-2023)Sánchez-Román, A., Pujol, M. I., Faugère, Y., and Pascual, A.: DUACS DT2021 reprocessed altimetry improves sea level retrieval in the coastal band of the European seas, Ocean Sci., 19, 793–809, https://doi.org/10.5194/os-19-793-2023, 2023\n",
    "\n",
    "[[9]](https://doi.org/10.1029/2007jc004459) Pascual, A., Marcos, M., and Gomis, D.: Comparing the sea level response to pressure and wind forcing of two barotropic models: validation with tide gauge and altimetry data, J. Geophys. Res., 113, C07011, https://doi.org/10.1029/2007jc004459, 2008\n",
    "\n",
    "[[10]](https://doi.org/10.1016/j.jmarsys.2016.03.006) Laíz, I., Tejedor, B., Gómez-Enri, J., Aboitiz, A., and Villares, P.: Contributions to the sea level seasonal cycle within the Gulf of Cadiz (Southwestern Iberian Peninsula), J. Mar. Syst., 159, 55– 66, https://doi.org/10.1016/j.jmarsys.2016.03.006, 2016\n",
    "\n",
    "[[11]](https://www.tandfonline.com/doi/full/10.1080/1755876X.2018.1489208) Von Schuckmann, K., Le Traon, P.-Y., Smith, N., et al.: Copernicus Marine Service Ocean State Report, J. Oper. Ocean., 11, S1– S142, 2018\n",
    "\n",
    "[[12]](https://www.po.gso.uri.edu/codiga/utide/2011Codiga-UTide-Report.pdf) Codiga, D. L.: Unified Tidal Analysis and Prediction Using the UTide Matlab Functions, Technical Report 2011-01, Graduate School of Oceanography, University of Rhode Island, Narragansett, RI, 59 pp., ftp://www.po.gso.uri.edu/pub/downloads/codiga/pubs/2011Codiga-UTide-Report.pdf, 2011\n",
    "\n",
    "[[13]](https://journals.ametsoc.org/view/journals/atot/16/9/1520-0426_1999_016_1279_eogmap_2_0_co_2.xml) Dorandeu, J. and Le Traon, P.-Y.: Effects of global mean atmospheric pressure variations on mean sea level changes from Topex/Poseidon, J. Atmos. Ocean. Technol., 16, 1279–1283, 1999\n",
    "\n",
    "[[14]](https://doi.org/10.1029/2002GL016473) Carrère, L. and Lyard, F.: Modeling the barotropic response of the global ocean to atmospheric wind and pressure forcing–comparisons with observations, Geophys. Res. Lett., 30, 1275, https://doi.org/10.1029/2002GL016473, 2003 \n",
    "\n",
    "[[15]](https://doi.org/10.1016/j.asr.2015.04.027) Marcos, M., Pascual, A., and Pujol, I.: Improved satellite altimeter mapped sea level anomalies in the Mediterranean Sea: A comparison with tide gauges, Adv. Space Res., 56, 596–604, https://doi.org/10.1016/j.asr.2015.04.027, 2015\n",
    "\n",
    "[[16]](https://agupubs.onlinelibrary.wiley.com/doi/abs/10.1029/98rg02638) Peltier, W. R.: Postglacial Variations in the Level of the Sea: Implications for Climate Dynamics and Solid-Earth Geophysics, Rev. Geophys., 36, 603–689, 1998\n",
    "\n",
    "[[17]](https://www.annualreviews.org/content/journals/10.1146/annurev.earth.32.082503.144359) Peltier, W. R.: Global Glacial Isostasy and the Surface of the Ice-Age Earth: The ICE-5G(VM2) model and GRACE, Ann. Rev. Earth. Planet. Sci., 32, 111–149, 2004 \n",
    "\n",
    "[[18]](https://doi.org/10.1175/2008JTECHO556.1) Pascual, A., Boone, C., Larnicol, G., and Le Traon, P. Y.: On the quality of real-time altimeter gridded fields: comparison with in situ data, J. Atmos. Ocean. Technol., 26, 556–569, https://doi.org/10.1175/2008JTECHO556.1, 2009 \n",
    "\n",
    "[[19]](https://doi.org/10.5194/os-15-1091-2019) Ballarotta, M., Ubelmann, C., Pujol, M.-I., Taburet, G., Fournier, F., Legeais, J.-F., Faugère, Y., Delepoulle, A., Chelton, D., Dibarboure, G., and Picot, N.: On the resolutions of ocean altimetry maps, Ocean Sci., 15, 1091–1109, https://doi.org/10.5194/os-15-1091-2019, 2019\n"
   ]
  },
  {
   "cell_type": "code",
   "execution_count": null,
   "id": "9ae9ca1c",
   "metadata": {},
   "outputs": [],
   "source": []
  }
 ],
 "metadata": {
  "kernelspec": {
   "display_name": "Python 3 (ipykernel)",
   "language": "python",
   "name": "python3"
  },
  "language_info": {
   "codemirror_mode": {
    "name": "ipython",
    "version": 3
   },
   "file_extension": ".py",
   "mimetype": "text/x-python",
   "name": "python",
   "nbconvert_exporter": "python",
   "pygments_lexer": "ipython3",
   "version": "3.10.12"
  }
 },
 "nbformat": 4,
 "nbformat_minor": 5
}
